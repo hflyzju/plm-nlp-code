{
 "cells": [
  {
   "cell_type": "markdown",
   "id": "ab6b37a5-43d4-423b-8b6b-7674414e19a8",
   "metadata": {},
   "source": [
    "## 一、datasets使用"
   ]
  },
  {
   "cell_type": "code",
   "execution_count": 1,
   "id": "0d643709-40b2-4b71-b564-81a3d0ab9af3",
   "metadata": {},
   "outputs": [
    {
     "name": "stderr",
     "output_type": "stream",
     "text": [
      "Reusing dataset squad (/Users/huxiang/.cache/huggingface/datasets/squad/plain_text/1.0.0/d6ec3ceb99ca480ce37cdd35555d6cb2511d223b9150cce08a837ef62ffea453)\n"
     ]
    },
    {
     "data": {
      "application/vnd.jupyter.widget-view+json": {
       "model_id": "1c9f8f746a724b22aa7115b5830099c8",
       "version_major": 2,
       "version_minor": 0
      },
      "text/plain": [
       "  0%|          | 0/2 [00:00<?, ?it/s]"
      ]
     },
     "metadata": {},
     "output_type": "display_data"
    }
   ],
   "source": [
    "from datasets import load_dataset, load_metric\n",
    "\n",
    "dataset = load_dataset('squad')"
   ]
  },
  {
   "cell_type": "markdown",
   "id": "d2384368-03d5-423f-8861-7d61a5423d9a",
   "metadata": {},
   "source": [
    "### 1.1 也可以自定义数据\n",
    "Fine-tuning with custom datasets：\n",
    "https://huggingface.co/transformers/v3.2.0/custom_datasets.html"
   ]
  },
  {
   "cell_type": "markdown",
   "id": "f01114df-6103-44e9-8156-968735c97ba2",
   "metadata": {},
   "source": [
    "### 1.2 用datasets数据测试"
   ]
  },
  {
   "cell_type": "code",
   "execution_count": 2,
   "id": "d103eb5e-5d1f-4918-a72e-d3a52e68f589",
   "metadata": {},
   "outputs": [
    {
     "data": {
      "text/plain": [
       "datasets.dataset_dict.DatasetDict"
      ]
     },
     "execution_count": 2,
     "metadata": {},
     "output_type": "execute_result"
    }
   ],
   "source": [
    "type(dataset)"
   ]
  },
  {
   "cell_type": "code",
   "execution_count": 3,
   "id": "aa285d38-97d8-4bb8-8560-19a0e51c7309",
   "metadata": {},
   "outputs": [
    {
     "data": {
      "text/plain": [
       "DatasetDict({\n",
       "    train: Dataset({\n",
       "        features: ['id', 'title', 'context', 'question', 'answers'],\n",
       "        num_rows: 87599\n",
       "    })\n",
       "    validation: Dataset({\n",
       "        features: ['id', 'title', 'context', 'question', 'answers'],\n",
       "        num_rows: 10570\n",
       "    })\n",
       "})"
      ]
     },
     "execution_count": 3,
     "metadata": {},
     "output_type": "execute_result"
    }
   ],
   "source": [
    "dataset"
   ]
  },
  {
   "cell_type": "code",
   "execution_count": 4,
   "id": "ab2cbea4-5ac1-4481-91c0-54396f7ea8e2",
   "metadata": {},
   "outputs": [
    {
     "data": {
      "text/plain": [
       "Dataset({\n",
       "    features: ['id', 'title', 'context', 'question', 'answers'],\n",
       "    num_rows: 87599\n",
       "})"
      ]
     },
     "execution_count": 4,
     "metadata": {},
     "output_type": "execute_result"
    }
   ],
   "source": [
    "dataset['train']"
   ]
  },
  {
   "cell_type": "code",
   "execution_count": 5,
   "id": "f77c486c-f10f-4839-b34f-30bc48dd942e",
   "metadata": {},
   "outputs": [
    {
     "data": {
      "text/plain": [
       "{'id': '5733be284776f41900661182',\n",
       " 'title': 'University_of_Notre_Dame',\n",
       " 'context': 'Architecturally, the school has a Catholic character. Atop the Main Building\\'s gold dome is a golden statue of the Virgin Mary. Immediately in front of the Main Building and facing it, is a copper statue of Christ with arms upraised with the legend \"Venite Ad Me Omnes\". Next to the Main Building is the Basilica of the Sacred Heart. Immediately behind the basilica is the Grotto, a Marian place of prayer and reflection. It is a replica of the grotto at Lourdes, France where the Virgin Mary reputedly appeared to Saint Bernadette Soubirous in 1858. At the end of the main drive (and in a direct line that connects through 3 statues and the Gold Dome), is a simple, modern stone statue of Mary.',\n",
       " 'question': 'To whom did the Virgin Mary allegedly appear in 1858 in Lourdes France?',\n",
       " 'answers': {'text': ['Saint Bernadette Soubirous'], 'answer_start': [515]}}"
      ]
     },
     "execution_count": 5,
     "metadata": {},
     "output_type": "execute_result"
    }
   ],
   "source": [
    "dataset['train'][0]"
   ]
  },
  {
   "cell_type": "code",
   "execution_count": 6,
   "id": "f17624d8-2d8c-415a-8f0c-961e3e557a37",
   "metadata": {},
   "outputs": [
    {
     "data": {
      "text/plain": [
       "'Saint Bernadette Soubirous in 1858. At the end of the main drive (and in a direct line that connects through 3 statues and the Gold Dome), is a simple, modern stone statue of Mary.'"
      ]
     },
     "execution_count": 6,
     "metadata": {},
     "output_type": "execute_result"
    }
   ],
   "source": [
    "dataset['train'][0]['context'][515:]"
   ]
  },
  {
   "cell_type": "markdown",
   "id": "9d6f2487-fdfb-4e6d-b98e-f74034d8be1c",
   "metadata": {},
   "source": [
    "## 二、transformers使用"
   ]
  },
  {
   "cell_type": "code",
   "execution_count": 2,
   "id": "1af7ebe8-2c55-4d90-9fe6-d8413beb8ae3",
   "metadata": {},
   "outputs": [],
   "source": [
    "from transformers import BertTokenizerFast, BertForQuestionAnswering, TrainingArguments, Trainer, default_data_collator"
   ]
  },
  {
   "cell_type": "code",
   "execution_count": 3,
   "id": "7049cb49-30dc-4035-8e16-bb9d90e84b25",
   "metadata": {},
   "outputs": [],
   "source": [
    "tokenizer = BertTokenizerFast.from_pretrained('/Users/huxiang/Documents/pretrain_models/bert-tiny/')"
   ]
  },
  {
   "cell_type": "code",
   "execution_count": 4,
   "id": "fa02ec83-a008-41a4-8668-d69666067c93",
   "metadata": {},
   "outputs": [
    {
     "data": {
      "text/plain": [
       "PreTrainedTokenizerFast(name_or_path='/Users/huxiang/Documents/pretrain_models/bert-tiny/', vocab_size=30522, model_max_len=1000000000000000019884624838656, is_fast=True, padding_side='right', truncation_side='right', special_tokens={'unk_token': '[UNK]', 'sep_token': '[SEP]', 'pad_token': '[PAD]', 'cls_token': '[CLS]', 'mask_token': '[MASK]'})"
      ]
     },
     "execution_count": 4,
     "metadata": {},
     "output_type": "execute_result"
    }
   ],
   "source": [
    "tokenizer"
   ]
  },
  {
   "cell_type": "markdown",
   "id": "b0b07ee5-6256-439c-bd3d-406a996cac0d",
   "metadata": {},
   "source": [
    "## 三、实验"
   ]
  },
  {
   "cell_type": "code",
   "execution_count": 5,
   "id": "ea6ae17a-dcf8-4816-8247-dfb45702f135",
   "metadata": {},
   "outputs": [
    {
     "name": "stderr",
     "output_type": "stream",
     "text": [
      "Reusing dataset squad (/Users/huxiang/.cache/huggingface/datasets/squad/plain_text/1.0.0/d6ec3ceb99ca480ce37cdd35555d6cb2511d223b9150cce08a837ef62ffea453)\n"
     ]
    },
    {
     "data": {
      "application/vnd.jupyter.widget-view+json": {
       "model_id": "7350e1815f9c42089290da5533087865",
       "version_major": 2,
       "version_minor": 0
      },
      "text/plain": [
       "  0%|          | 0/2 [00:00<?, ?it/s]"
      ]
     },
     "metadata": {},
     "output_type": "display_data"
    }
   ],
   "source": [
    "import json\n",
    "\n",
    "from datasets import load_dataset, load_metric\n",
    "from transformers import BertTokenizerFast, BertForQuestionAnswering, TrainingArguments, Trainer, default_data_collator\n",
    "\n",
    "dataset = load_dataset('squad')\n",
    "\n",
    "tokenizer = BertTokenizerFast.from_pretrained('/Users/huxiang/Documents/pretrain_models/bert-tiny/')\n",
    "\n",
    "\n",
    "\n",
    "def prepare_train_features(examples):\n",
    "    \"\"\"准备训练数据并转换为feature\n",
    "    Args:\n",
    "        examples: batch为n的数据，dict_keys(['id', 'title', 'context', 'question', 'answers']),\n",
    "            example:{id:[id1, id2, ...], title:[title1, title2, ...],\n",
    "                     context:[context1, context2, ...],\n",
    "                     question:[question1, question2, ...],\n",
    "                     answers:[answers1, answers2, ...]}\n",
    "\n",
    "    \"\"\"\n",
    "    tokenized_examples = tokenizer(\n",
    "        examples[\"question\"],           # 问题文本\n",
    "        examples[\"context\"],            # 篇章文本\n",
    "        truncation=\"only_second\",       # 截断只发生在第二部分，即篇章\n",
    "        max_length=50,                 # 设定最大长度为384\n",
    "        stride=30,                     # 设定篇章切片步长为128\n",
    "        return_overflowing_tokens=True, # 返回超出最大长度的标记，将篇章切成多片\n",
    "        return_offsets_mapping=True,    # 返回偏置信息，用于对齐答案位置\n",
    "        padding=\"max_length\",           # 按最大长度进行补齐\n",
    "    )\n",
    "\n",
    "    print(\"examples.keys():\", examples.keys())\n",
    "    \n",
    "    for key in examples.keys():\n",
    "        print('examples, key=', key, 'len(examples[key]):', len(examples[key]))\n",
    "    print(\"tokenized_examples.keys():\", tokenized_examples.keys())\n",
    "    for key in tokenized_examples.keys():\n",
    "        print('tokenized_examples, key=', key, 'len(tokenized_examples[key]):', len(tokenized_examples[key]))\n",
    "        \n",
    "    # 如果篇章很长，则可能会被切成多个小篇章，需要通过以下函数建立feature到example的映射关系\n",
    "    sample_mapping = tokenized_examples.get(\"overflow_to_sample_mapping\")\n",
    "    # 建立token到原文的字符级映射关系，用于确定答案的开始和结束位置\n",
    "    # https://huggingface.co/course/chapter6/3\n",
    "    # 标记每个实体在原文的起始位置\n",
    "    # example: [(0, 0), (0, 2), (3, 7), (8, 11), (12, 15), (16, 22)]\n",
    "    # 第1个token为(0, 2)代表占用的是原始字符串中sentence[0:2]的字\n",
    "    offset_mapping = tokenized_examples.get(\"offset_mapping\") #\n",
    "    \n",
    "    # 获取开始和结束位置\n",
    "    tokenized_examples[\"start_positions\"] = []\n",
    "    tokenized_examples[\"end_positions\"] = []\n",
    "\n",
    "    for i, offsets in enumerate(offset_mapping):\n",
    "        # 获取输入序列的input_ids以及[CLS]标记的位置（在BERT中为第0位）\n",
    "        input_ids = tokenized_examples[\"input_ids\"][i]\n",
    "        cls_index = input_ids.index(tokenizer.cls_token_id)\n",
    "\n",
    "        # 获取哪些部分是问题，哪些部分是篇章\n",
    "        sequence_ids = tokenized_examples.sequence_ids(i)\n",
    "\n",
    "        # 获取答案在文本中的字符级开始和结束位置\n",
    "        sample_index = sample_mapping[i]\n",
    "        answers = examples[\"answers\"][sample_index]\n",
    "        start_char = answers[\"answer_start\"][0]\n",
    "        end_char = start_char + len(answers[\"text\"][0])\n",
    "\n",
    "        # 获取在当前切片中的开始和结束位置\n",
    "        token_start_index = 0\n",
    "        while sequence_ids[token_start_index] != 1:\n",
    "            token_start_index += 1\n",
    "        token_end_index = len(input_ids) - 1\n",
    "        while sequence_ids[token_end_index] != 1:\n",
    "            token_end_index -= 1\n",
    "\n",
    "        # 检测答案是否超出当前切片的范围\n",
    "        if not (offsets[token_start_index][0] <= start_char and offsets[token_end_index][1] >= end_char):\n",
    "            # 超出范围时，答案的开始和结束位置均设置为[CLS]标记的位置\n",
    "            tokenized_examples[\"start_positions\"].append(cls_index)\n",
    "            tokenized_examples[\"end_positions\"].append(cls_index)\n",
    "        else:\n",
    "            # 将token_start_index和token_end_index移至答案的两端\n",
    "            while token_start_index < len(offsets) and offsets[token_start_index][0] <= start_char:\n",
    "                token_start_index += 1\n",
    "            tokenized_examples[\"start_positions\"].append(token_start_index - 1)\n",
    "            while offsets[token_end_index][1] >= end_char:\n",
    "                token_end_index -= 1\n",
    "            tokenized_examples[\"end_positions\"].append(token_end_index + 1)\n",
    "\n",
    "    return tokenized_examples\n",
    "\n",
    "\n"
   ]
  },
  {
   "cell_type": "markdown",
   "id": "6881d91d-4aa5-467a-b51e-4e15d875f7b4",
   "metadata": {},
   "source": [
    "### 3.1 examples包括id，title（文章title），context（原文），question（内容），answers（包括text答案内容，以及answer_start起点）等成分"
   ]
  },
  {
   "cell_type": "code",
   "execution_count": 6,
   "id": "43a9490d-e8ec-4ddb-bac4-86132306cc10",
   "metadata": {},
   "outputs": [
    {
     "name": "stdout",
     "output_type": "stream",
     "text": [
      "examples.keys(): dict_keys(['id', 'title', 'context', 'question', 'answers'])\n",
      "examples, key= id len(examples[key]): 2\n",
      "examples, key= title len(examples[key]): 2\n",
      "examples, key= context len(examples[key]): 2\n",
      "examples, key= question len(examples[key]): 2\n",
      "examples, key= answers len(examples[key]): 2\n",
      "tokenized_examples.keys(): dict_keys(['input_ids', 'token_type_ids', 'attention_mask', 'offset_mapping', 'overflow_to_sample_mapping'])\n",
      "tokenized_examples, key= input_ids len(tokenized_examples[key]): 86\n",
      "tokenized_examples, key= token_type_ids len(tokenized_examples[key]): 86\n",
      "tokenized_examples, key= attention_mask len(tokenized_examples[key]): 86\n",
      "tokenized_examples, key= offset_mapping len(tokenized_examples[key]): 86\n",
      "tokenized_examples, key= overflow_to_sample_mapping len(tokenized_examples[key]): 86\n"
     ]
    }
   ],
   "source": [
    "tokenized_examples = prepare_train_features(dataset['train'][0:2])"
   ]
  },
  {
   "cell_type": "code",
   "execution_count": 38,
   "id": "49eb948a-ac82-47b7-b94e-4fb69d61b893",
   "metadata": {},
   "outputs": [
    {
     "data": {
      "text/plain": [
       "\"[CLS] to whom did the virgin mary allegedly appear in 1858 in lourdes france? [SEP] architecturally, the school has a catholic character. atop the main building's gold dome is a golden statue of the virgin mary. immediately in front of the [SEP]\""
      ]
     },
     "execution_count": 38,
     "metadata": {},
     "output_type": "execute_result"
    }
   ],
   "source": [
    "tokenizer.decode(tokenized_examples['input_ids'][0])"
   ]
  },
  {
   "cell_type": "markdown",
   "id": "8c4e2ef5-3914-49a2-be7e-1ca887659ddf",
   "metadata": {},
   "source": [
    "#### 3.1.1 相当于各种key下面的值是一个list，并且每一个context可能有多个问题，但是每个问题只有一个答案"
   ]
  },
  {
   "cell_type": "code",
   "execution_count": 23,
   "id": "c0c91c6a-7fbc-40bf-b1e3-55aa380000fd",
   "metadata": {},
   "outputs": [
    {
     "data": {
      "text/plain": [
       "Dataset({\n",
       "    features: ['id', 'title', 'context', 'question', 'answers'],\n",
       "    num_rows: 87599\n",
       "})"
      ]
     },
     "execution_count": 23,
     "metadata": {},
     "output_type": "execute_result"
    }
   ],
   "source": [
    "dataset['train']"
   ]
  },
  {
   "cell_type": "code",
   "execution_count": 25,
   "id": "37d7606a-d512-4efe-8589-44c45486c9ce",
   "metadata": {},
   "outputs": [
    {
     "data": {
      "text/plain": [
       "{'text': ['Saint Bernadette Soubirous'], 'answer_start': [515]}"
      ]
     },
     "execution_count": 25,
     "metadata": {},
     "output_type": "execute_result"
    }
   ],
   "source": [
    "dataset['train']['answers'][0]"
   ]
  },
  {
   "cell_type": "code",
   "execution_count": 14,
   "id": "051e3594-0aec-4a76-a185-4b8637f7e732",
   "metadata": {},
   "outputs": [
    {
     "data": {
      "text/plain": [
       "{'id': ['5733be284776f41900661182',\n",
       "  '5733be284776f4190066117f',\n",
       "  '5733be284776f41900661180'],\n",
       " 'title': ['University_of_Notre_Dame',\n",
       "  'University_of_Notre_Dame',\n",
       "  'University_of_Notre_Dame'],\n",
       " 'context': ['Architecturally, the school has a Catholic character. Atop the Main Building\\'s gold dome is a golden statue of the Virgin Mary. Immediately in front of the Main Building and facing it, is a copper statue of Christ with arms upraised with the legend \"Venite Ad Me Omnes\". Next to the Main Building is the Basilica of the Sacred Heart. Immediately behind the basilica is the Grotto, a Marian place of prayer and reflection. It is a replica of the grotto at Lourdes, France where the Virgin Mary reputedly appeared to Saint Bernadette Soubirous in 1858. At the end of the main drive (and in a direct line that connects through 3 statues and the Gold Dome), is a simple, modern stone statue of Mary.',\n",
       "  'Architecturally, the school has a Catholic character. Atop the Main Building\\'s gold dome is a golden statue of the Virgin Mary. Immediately in front of the Main Building and facing it, is a copper statue of Christ with arms upraised with the legend \"Venite Ad Me Omnes\". Next to the Main Building is the Basilica of the Sacred Heart. Immediately behind the basilica is the Grotto, a Marian place of prayer and reflection. It is a replica of the grotto at Lourdes, France where the Virgin Mary reputedly appeared to Saint Bernadette Soubirous in 1858. At the end of the main drive (and in a direct line that connects through 3 statues and the Gold Dome), is a simple, modern stone statue of Mary.',\n",
       "  'Architecturally, the school has a Catholic character. Atop the Main Building\\'s gold dome is a golden statue of the Virgin Mary. Immediately in front of the Main Building and facing it, is a copper statue of Christ with arms upraised with the legend \"Venite Ad Me Omnes\". Next to the Main Building is the Basilica of the Sacred Heart. Immediately behind the basilica is the Grotto, a Marian place of prayer and reflection. It is a replica of the grotto at Lourdes, France where the Virgin Mary reputedly appeared to Saint Bernadette Soubirous in 1858. At the end of the main drive (and in a direct line that connects through 3 statues and the Gold Dome), is a simple, modern stone statue of Mary.'],\n",
       " 'question': ['To whom did the Virgin Mary allegedly appear in 1858 in Lourdes France?',\n",
       "  'What is in front of the Notre Dame Main Building?',\n",
       "  'The Basilica of the Sacred heart at Notre Dame is beside to which structure?'],\n",
       " 'answers': [{'text': ['Saint Bernadette Soubirous'], 'answer_start': [515]},\n",
       "  {'text': ['a copper statue of Christ'], 'answer_start': [188]},\n",
       "  {'text': ['the Main Building'], 'answer_start': [279]}]}"
      ]
     },
     "execution_count": 14,
     "metadata": {},
     "output_type": "execute_result"
    }
   ],
   "source": [
    "dataset['train'][0:3]"
   ]
  },
  {
   "cell_type": "markdown",
   "id": "88f4d7d7-d1e0-4650-99bd-5637c433a838",
   "metadata": {},
   "source": [
    "### 3.2 tokenized_examples包含input_ids、token_type_ids、attention_mask、offset_mapping（每个token对应到原文的(start, end)位置），overflow_to_sample_mapping（每个sample对应到原始的第i个sentence）"
   ]
  },
  {
   "cell_type": "code",
   "execution_count": 21,
   "id": "7ccf3f7c-b720-4cea-90fb-945aee232c22",
   "metadata": {},
   "outputs": [
    {
     "data": {
      "text/plain": [
       "dict_keys(['input_ids', 'token_type_ids', 'attention_mask', 'offset_mapping', 'overflow_to_sample_mapping', 'start_positions', 'end_positions'])"
      ]
     },
     "execution_count": 21,
     "metadata": {},
     "output_type": "execute_result"
    }
   ],
   "source": [
    "tokenized_examples.keys()"
   ]
  },
  {
   "cell_type": "code",
   "execution_count": 16,
   "id": "1b2e1250-46b5-44a0-83b6-2073d1eeab84",
   "metadata": {},
   "outputs": [
    {
     "name": "stdout",
     "output_type": "stream",
     "text": [
      "tokenized_examples, key= input_ids len(tokenized_examples[key]): 86\n",
      "tokenized_examples, key= token_type_ids len(tokenized_examples[key]): 86\n",
      "tokenized_examples, key= attention_mask len(tokenized_examples[key]): 86\n",
      "tokenized_examples, key= offset_mapping len(tokenized_examples[key]): 86\n",
      "tokenized_examples, key= overflow_to_sample_mapping len(tokenized_examples[key]): 86\n",
      "tokenized_examples, key= start_positions len(tokenized_examples[key]): 86\n",
      "tokenized_examples, key= end_positions len(tokenized_examples[key]): 86\n"
     ]
    }
   ],
   "source": [
    "for key in tokenized_examples.keys():\n",
    "    print('tokenized_examples, key=', key, 'len(tokenized_examples[key]):', len(tokenized_examples[key]))"
   ]
  },
  {
   "cell_type": "markdown",
   "id": "0a3ae91e-0d83-4f75-9810-3f5fbcdc0e12",
   "metadata": {},
   "source": [
    "#### 3.2.1 offset_mapping：相当于该sample的每个token对应到原始里面的sentence里面（start，end）的位置"
   ]
  },
  {
   "cell_type": "code",
   "execution_count": 19,
   "id": "9ba9bb23-3d86-49a3-b8b3-da32f2912bea",
   "metadata": {},
   "outputs": [
    {
     "name": "stdout",
     "output_type": "stream",
     "text": [
      "[(0, 0), (0, 2), (3, 7), (8, 11), (12, 15), (16, 22), (23, 27), (28, 37), (38, 44), (45, 47), (48, 52), (53, 55), (56, 59), (59, 63), (64, 70), (70, 71), (0, 0), (0, 13), (13, 15), (15, 16), (17, 20), (21, 27), (28, 31), (32, 33), (34, 42), (43, 52), (52, 53), (54, 58), (59, 62), (63, 67), (68, 76), (76, 77), (77, 78), (79, 83), (84, 88), (89, 91), (92, 93), (94, 100), (101, 107), (108, 110), (111, 114), (115, 121), (122, 126), (126, 127), (128, 139), (140, 142), (143, 148), (149, 151), (152, 155), (0, 0)]\n"
     ]
    }
   ],
   "source": [
    "print(tokenized_examples['offset_mapping'][0])"
   ]
  },
  {
   "cell_type": "markdown",
   "id": "d5ead61a-77f9-41a5-b48f-ab951b835f1d",
   "metadata": {},
   "source": [
    "#### 3.2.2 start_positions和end_positions为每个sample里面答案的start和end位置，如果没有question的答案，那么为0"
   ]
  },
  {
   "cell_type": "code",
   "execution_count": 28,
   "id": "5d238dea-3d65-4d39-b858-da42ecad49d7",
   "metadata": {},
   "outputs": [
    {
     "name": "stdout",
     "output_type": "stream",
     "text": [
      "[0, 0, 0, 0, 0, 0, 0, 0, 0, 0, 0, 0, 0, 0, 0, 0, 0, 0, 0, 0, 0, 0, 0, 0, 0, 0, 0, 0, 0, 0, 0, 0, 0, 0, 0, 0, 0, 0, 0, 0, 0, 0, 0, 0, 0, 40, 38, 36, 34, 32, 30, 28, 26, 24, 22, 20, 18, 0, 0, 0, 0, 0, 0, 0, 0, 0, 40, 34, 28, 22, 16, 0, 0, 0, 0, 0, 0, 0, 0, 0, 0, 0, 0, 0, 0, 0]\n"
     ]
    }
   ],
   "source": [
    "print(tokenized_examples['start_positions'])"
   ]
  },
  {
   "cell_type": "code",
   "execution_count": 29,
   "id": "99ec9c3f-618d-49da-9629-95aebcf07629",
   "metadata": {},
   "outputs": [
    {
     "name": "stdout",
     "output_type": "stream",
     "text": [
      "[0, 0, 0, 0, 0, 0, 0, 0, 0, 0, 0, 0, 0, 0, 0, 0, 0, 0, 0, 0, 0, 0, 0, 0, 0, 0, 0, 0, 0, 0, 0, 0, 0, 0, 0, 0, 0, 0, 0, 0, 0, 0, 0, 0, 0, 47, 45, 43, 41, 39, 37, 35, 33, 31, 29, 27, 25, 0, 0, 0, 0, 0, 0, 0, 0, 0, 44, 38, 32, 26, 20, 0, 0, 0, 0, 0, 0, 0, 0, 0, 0, 0, 0, 0, 0, 0]\n"
     ]
    }
   ],
   "source": [
    "print(tokenized_examples['end_positions'])"
   ]
  },
  {
   "cell_type": "markdown",
   "id": "873ce88a-1e0b-4fa8-884d-77e254eef86d",
   "metadata": {},
   "source": [
    "#### 3.2.3 根据start_positions和end_positions找到原始的answer的位置"
   ]
  },
  {
   "cell_type": "code",
   "execution_count": 37,
   "id": "69a70c4c-a65f-4491-b301-4af8f9066477",
   "metadata": {},
   "outputs": [
    {
     "name": "stdout",
     "output_type": "stream",
     "text": [
      "sentence_index: 0\n",
      "answer: {'text': ['Saint Bernadette Soubirous'], 'answer_start': [515]}\n",
      "decode answer: saint bernadette soubirous\n",
      "sentence_index: 0\n",
      "answer: {'text': ['Saint Bernadette Soubirous'], 'answer_start': [515]}\n",
      "decode answer: saint bernadette soubirous\n",
      "sentence_index: 0\n",
      "answer: {'text': ['Saint Bernadette Soubirous'], 'answer_start': [515]}\n",
      "decode answer: saint bernadette soubirous\n",
      "sentence_index: 0\n",
      "answer: {'text': ['Saint Bernadette Soubirous'], 'answer_start': [515]}\n",
      "decode answer: saint bernadette soubirous\n",
      "sentence_index: 0\n",
      "answer: {'text': ['Saint Bernadette Soubirous'], 'answer_start': [515]}\n",
      "decode answer: saint bernadette soubirous\n",
      "sentence_index: 0\n",
      "answer: {'text': ['Saint Bernadette Soubirous'], 'answer_start': [515]}\n",
      "decode answer: saint bernadette soubirous\n",
      "sentence_index: 0\n",
      "answer: {'text': ['Saint Bernadette Soubirous'], 'answer_start': [515]}\n",
      "decode answer: saint bernadette soubirous\n",
      "sentence_index: 0\n",
      "answer: {'text': ['Saint Bernadette Soubirous'], 'answer_start': [515]}\n",
      "decode answer: saint bernadette soubirous\n",
      "sentence_index: 0\n",
      "answer: {'text': ['Saint Bernadette Soubirous'], 'answer_start': [515]}\n",
      "decode answer: saint bernadette soubirous\n",
      "sentence_index: 0\n",
      "answer: {'text': ['Saint Bernadette Soubirous'], 'answer_start': [515]}\n",
      "decode answer: saint bernadette soubirous\n",
      "sentence_index: 0\n",
      "answer: {'text': ['Saint Bernadette Soubirous'], 'answer_start': [515]}\n",
      "decode answer: saint bernadette soubirous\n",
      "sentence_index: 0\n",
      "answer: {'text': ['Saint Bernadette Soubirous'], 'answer_start': [515]}\n",
      "decode answer: saint bernadette soubirous\n",
      "sentence_index: 1\n",
      "answer: {'text': ['a copper statue of Christ'], 'answer_start': [188]}\n",
      "decode answer: a copper statue of christ\n",
      "sentence_index: 1\n",
      "answer: {'text': ['a copper statue of Christ'], 'answer_start': [188]}\n",
      "decode answer: a copper statue of christ\n",
      "sentence_index: 1\n",
      "answer: {'text': ['a copper statue of Christ'], 'answer_start': [188]}\n",
      "decode answer: a copper statue of christ\n",
      "sentence_index: 1\n",
      "answer: {'text': ['a copper statue of Christ'], 'answer_start': [188]}\n",
      "decode answer: a copper statue of christ\n",
      "sentence_index: 1\n",
      "answer: {'text': ['a copper statue of Christ'], 'answer_start': [188]}\n",
      "decode answer: a copper statue of christ\n"
     ]
    }
   ],
   "source": [
    "i = 0\n",
    "for s, e in zip(tokenized_examples['start_positions'], tokenized_examples['end_positions']):\n",
    "    if s != 0 and e != 0:\n",
    "        sentence_index = tokenized_examples['overflow_to_sample_mapping'][i]\n",
    "        answer = dataset['train']['answers'][sentence_index]\n",
    "        print('sentence_index:', sentence_index)\n",
    "        print('answer:', answer)\n",
    "        print('decode answer:',tokenizer.decode(tokenized_examples['input_ids'][i][s:e+1]))\n",
    "    i += 1"
   ]
  },
  {
   "cell_type": "markdown",
   "id": "781cb192-0abe-4157-9fb8-15e42fcf0ed2",
   "metadata": {},
   "source": [
    "#### 3.2.5 sequence_ids用于找到当前切片位置：\n",
    "\n",
    "```\n",
    "# 获取在当前切片中的开始和结束位置\n",
    "token_start_index = 0\n",
    "while sequence_ids[token_start_index] != 1:\n",
    "    token_start_index += 1\n",
    "    token_end_index = len(input_ids) - 1\n",
    "while sequence_ids[token_end_index] != 1:\n",
    "    token_end_index -= 1\n",
    "```"
   ]
  },
  {
   "cell_type": "code",
   "execution_count": 26,
   "id": "c5cdf06f-4eab-42dc-9fa0-99c3de0a85af",
   "metadata": {},
   "outputs": [
    {
     "name": "stdout",
     "output_type": "stream",
     "text": [
      "into i: 0\n",
      "[None, 0, 0, 0, 0, 0, 0, 0, 0, 0, 0, 0, 0, 0, 0, 0, None, 1, 1, 1, 1, 1, 1, 1, 1, 1, 1, 1, 1, 1, 1, 1, 1, 1, 1, 1, 1, 1, 1, 1, 1, 1, 1, 1, 1, 1, 1, 1, 1, None]\n",
      "into i: 1\n",
      "[None, 0, 0, 0, 0, 0, 0, 0, 0, 0, 0, 0, 0, 0, 0, 0, None, 1, 1, 1, 1, 1, 1, 1, 1, 1, 1, 1, 1, 1, 1, 1, 1, 1, 1, 1, 1, 1, 1, 1, 1, 1, 1, 1, 1, 1, 1, 1, 1, None]\n",
      "into i: 2\n",
      "[None, 0, 0, 0, 0, 0, 0, 0, 0, 0, 0, 0, 0, 0, 0, 0, None, 1, 1, 1, 1, 1, 1, 1, 1, 1, 1, 1, 1, 1, 1, 1, 1, 1, 1, 1, 1, 1, 1, 1, 1, 1, 1, 1, 1, 1, 1, 1, 1, None]\n",
      "into i: 3\n",
      "[None, 0, 0, 0, 0, 0, 0, 0, 0, 0, 0, 0, 0, 0, 0, 0, None, 1, 1, 1, 1, 1, 1, 1, 1, 1, 1, 1, 1, 1, 1, 1, 1, 1, 1, 1, 1, 1, 1, 1, 1, 1, 1, 1, 1, 1, 1, 1, 1, None]\n",
      "into i: 4\n",
      "[None, 0, 0, 0, 0, 0, 0, 0, 0, 0, 0, 0, 0, 0, 0, 0, None, 1, 1, 1, 1, 1, 1, 1, 1, 1, 1, 1, 1, 1, 1, 1, 1, 1, 1, 1, 1, 1, 1, 1, 1, 1, 1, 1, 1, 1, 1, 1, 1, None]\n"
     ]
    }
   ],
   "source": [
    "for i in range(86):\n",
    "    seq_id = tokenized_examples.sequence_ids(i)\n",
    "    print('into i:', i)\n",
    "    print(seq_id)\n",
    "    if i > 3:\n",
    "        break"
   ]
  },
  {
   "cell_type": "markdown",
   "id": "018356ba-0c59-4ccd-bbca-485ab795002f",
   "metadata": {},
   "source": [
    "#### 3.2.6 将input_ids decode回去后，可以发现是用了sliding windows在对原文进行处理的"
   ]
  },
  {
   "cell_type": "code",
   "execution_count": 46,
   "id": "3c2e4da2-5eb0-4136-a322-0ccee1033ff0",
   "metadata": {},
   "outputs": [],
   "source": [
    "key = 'start_positions'\n",
    "for i in range(len(tokenized_examples[key])):\n",
    "    if tokenized_examples['start_positions'][i] or tokenized_examples['end_positions'][i]:\n",
    "        print('into:', i)\n",
    "        print(tokenized_examples['start_positions'][i])\n",
    "        print(tokenized_examples['end_positions'][i])\n",
    "        print(tokenizer.decode(tokenized_examples['input_ids'][i]))\n",
    "        print(tokenizer.decode(tokenized_examples['input_ids'][i][tokenized_examples['start_positions'][i]:tokenized_examples['end_positions'][i]]))\n",
    "    if i>4:\n",
    "        break"
   ]
  },
  {
   "cell_type": "markdown",
   "id": "7456e9c7-db15-4cea-aab2-9e2c99757efc",
   "metadata": {},
   "source": [
    "#### 3.2.7 offset的结果"
   ]
  },
  {
   "cell_type": "code",
   "execution_count": 45,
   "id": "ee75483e-e14c-45db-ad1f-4f9991119abb",
   "metadata": {},
   "outputs": [
    {
     "name": "stdout",
     "output_type": "stream",
     "text": [
      "i: 0\n",
      "offset: [(0, 0), (0, 2), (3, 7), (8, 11), (12, 15), (16, 22), (23, 27), (28, 37), (38, 44), (45, 47), (48, 52), (53, 55), (56, 59), (59, 63), (64, 70), (70, 71), (0, 0), (0, 13), (13, 15), (15, 16), (17, 20), (21, 27), (28, 31), (32, 33), (34, 42), (43, 52), (52, 53), (54, 58), (59, 62), (63, 67), (68, 76), (76, 77), (77, 78), (79, 83), (84, 88), (89, 91), (92, 93), (94, 100), (101, 107), (108, 110), (111, 114), (115, 121), (122, 126), (126, 127), (128, 139), (140, 142), (143, 148), (149, 151), (152, 155), (0, 0)]\n",
      "i: 1\n",
      "offset: [(0, 0), (0, 2), (3, 7), (8, 11), (12, 15), (16, 22), (23, 27), (28, 37), (38, 44), (45, 47), (48, 52), (53, 55), (56, 59), (59, 63), (64, 70), (70, 71), (0, 0), (15, 16), (17, 20), (21, 27), (28, 31), (32, 33), (34, 42), (43, 52), (52, 53), (54, 58), (59, 62), (63, 67), (68, 76), (76, 77), (77, 78), (79, 83), (84, 88), (89, 91), (92, 93), (94, 100), (101, 107), (108, 110), (111, 114), (115, 121), (122, 126), (126, 127), (128, 139), (140, 142), (143, 148), (149, 151), (152, 155), (156, 160), (161, 169), (0, 0)]\n",
      "i: 2\n",
      "offset: [(0, 0), (0, 2), (3, 7), (8, 11), (12, 15), (16, 22), (23, 27), (28, 37), (38, 44), (45, 47), (48, 52), (53, 55), (56, 59), (59, 63), (64, 70), (70, 71), (0, 0), (21, 27), (28, 31), (32, 33), (34, 42), (43, 52), (52, 53), (54, 58), (59, 62), (63, 67), (68, 76), (76, 77), (77, 78), (79, 83), (84, 88), (89, 91), (92, 93), (94, 100), (101, 107), (108, 110), (111, 114), (115, 121), (122, 126), (126, 127), (128, 139), (140, 142), (143, 148), (149, 151), (152, 155), (156, 160), (161, 169), (170, 173), (174, 180), (0, 0)]\n",
      "i: 3\n",
      "offset: [(0, 0), (0, 2), (3, 7), (8, 11), (12, 15), (16, 22), (23, 27), (28, 37), (38, 44), (45, 47), (48, 52), (53, 55), (56, 59), (59, 63), (64, 70), (70, 71), (0, 0), (32, 33), (34, 42), (43, 52), (52, 53), (54, 58), (59, 62), (63, 67), (68, 76), (76, 77), (77, 78), (79, 83), (84, 88), (89, 91), (92, 93), (94, 100), (101, 107), (108, 110), (111, 114), (115, 121), (122, 126), (126, 127), (128, 139), (140, 142), (143, 148), (149, 151), (152, 155), (156, 160), (161, 169), (170, 173), (174, 180), (181, 183), (183, 184), (0, 0)]\n"
     ]
    }
   ],
   "source": [
    "for i, offset in enumerate(tokenized_examples['offset_mapping']):\n",
    "    print('i:', i)\n",
    "    print('offset:', offset)\n",
    "    if i > 2:\n",
    "        break"
   ]
  },
  {
   "cell_type": "markdown",
   "id": "c913b0c3-9aca-4e5a-8635-a806280a5dc2",
   "metadata": {},
   "source": [
    "#### 3.2.7 overflow_to_sample_mapping 指明每个sample属于原始的第i个sentence？"
   ]
  },
  {
   "cell_type": "code",
   "execution_count": 9,
   "id": "75857d0a-f6fa-485a-a057-8242b810da95",
   "metadata": {},
   "outputs": [
    {
     "name": "stdout",
     "output_type": "stream",
     "text": [
      "[0, 0, 0, 0, 0, 0, 0, 0, 0, 0, 0, 0, 0, 0, 0, 0, 0, 0, 0, 0, 0, 0, 0, 0, 0, 0, 0, 0, 0, 0, 0, 0, 0, 0, 0, 0, 0, 0, 0, 0, 0, 0, 0, 0, 0, 0, 0, 0, 0, 0, 0, 0, 0, 0, 0, 0, 0, 0, 0, 0, 0, 0, 0, 0, 1, 1, 1, 1, 1, 1, 1, 1, 1, 1, 1, 1, 1, 1, 1, 1, 1, 1, 1, 1, 1, 1]\n"
     ]
    }
   ],
   "source": [
    "print(tokenized_examples['overflow_to_sample_mapping'])"
   ]
  }
 ],
 "metadata": {
  "kernelspec": {
   "display_name": "Python 3 (ipykernel)",
   "language": "python",
   "name": "python3"
  },
  "language_info": {
   "codemirror_mode": {
    "name": "ipython",
    "version": 3
   },
   "file_extension": ".py",
   "mimetype": "text/x-python",
   "name": "python",
   "nbconvert_exporter": "python",
   "pygments_lexer": "ipython3",
   "version": "3.9.12"
  }
 },
 "nbformat": 4,
 "nbformat_minor": 5
}
