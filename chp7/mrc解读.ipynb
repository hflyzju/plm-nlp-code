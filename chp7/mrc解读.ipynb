{
 "cells": [
  {
   "cell_type": "markdown",
   "id": "ab6b37a5-43d4-423b-8b6b-7674414e19a8",
   "metadata": {},
   "source": [
    "## 一、datasets使用"
   ]
  },
  {
   "cell_type": "code",
   "execution_count": 1,
   "id": "0d643709-40b2-4b71-b564-81a3d0ab9af3",
   "metadata": {},
   "outputs": [
    {
     "name": "stderr",
     "output_type": "stream",
     "text": [
      "Reusing dataset squad (/Users/huxiang/.cache/huggingface/datasets/squad/plain_text/1.0.0/d6ec3ceb99ca480ce37cdd35555d6cb2511d223b9150cce08a837ef62ffea453)\n"
     ]
    },
    {
     "data": {
      "application/vnd.jupyter.widget-view+json": {
       "model_id": "1c9f8f746a724b22aa7115b5830099c8",
       "version_major": 2,
       "version_minor": 0
      },
      "text/plain": [
       "  0%|          | 0/2 [00:00<?, ?it/s]"
      ]
     },
     "metadata": {},
     "output_type": "display_data"
    }
   ],
   "source": [
    "from datasets import load_dataset, load_metric\n",
    "\n",
    "dataset = load_dataset('squad')"
   ]
  },
  {
   "cell_type": "code",
   "execution_count": 2,
   "id": "d103eb5e-5d1f-4918-a72e-d3a52e68f589",
   "metadata": {},
   "outputs": [
    {
     "data": {
      "text/plain": [
       "datasets.dataset_dict.DatasetDict"
      ]
     },
     "execution_count": 2,
     "metadata": {},
     "output_type": "execute_result"
    }
   ],
   "source": [
    "type(dataset)"
   ]
  },
  {
   "cell_type": "code",
   "execution_count": 3,
   "id": "aa285d38-97d8-4bb8-8560-19a0e51c7309",
   "metadata": {},
   "outputs": [
    {
     "data": {
      "text/plain": [
       "DatasetDict({\n",
       "    train: Dataset({\n",
       "        features: ['id', 'title', 'context', 'question', 'answers'],\n",
       "        num_rows: 87599\n",
       "    })\n",
       "    validation: Dataset({\n",
       "        features: ['id', 'title', 'context', 'question', 'answers'],\n",
       "        num_rows: 10570\n",
       "    })\n",
       "})"
      ]
     },
     "execution_count": 3,
     "metadata": {},
     "output_type": "execute_result"
    }
   ],
   "source": [
    "dataset"
   ]
  },
  {
   "cell_type": "code",
   "execution_count": 4,
   "id": "ab2cbea4-5ac1-4481-91c0-54396f7ea8e2",
   "metadata": {},
   "outputs": [
    {
     "data": {
      "text/plain": [
       "Dataset({\n",
       "    features: ['id', 'title', 'context', 'question', 'answers'],\n",
       "    num_rows: 87599\n",
       "})"
      ]
     },
     "execution_count": 4,
     "metadata": {},
     "output_type": "execute_result"
    }
   ],
   "source": [
    "dataset['train']"
   ]
  },
  {
   "cell_type": "code",
   "execution_count": 5,
   "id": "f77c486c-f10f-4839-b34f-30bc48dd942e",
   "metadata": {},
   "outputs": [
    {
     "data": {
      "text/plain": [
       "{'id': '5733be284776f41900661182',\n",
       " 'title': 'University_of_Notre_Dame',\n",
       " 'context': 'Architecturally, the school has a Catholic character. Atop the Main Building\\'s gold dome is a golden statue of the Virgin Mary. Immediately in front of the Main Building and facing it, is a copper statue of Christ with arms upraised with the legend \"Venite Ad Me Omnes\". Next to the Main Building is the Basilica of the Sacred Heart. Immediately behind the basilica is the Grotto, a Marian place of prayer and reflection. It is a replica of the grotto at Lourdes, France where the Virgin Mary reputedly appeared to Saint Bernadette Soubirous in 1858. At the end of the main drive (and in a direct line that connects through 3 statues and the Gold Dome), is a simple, modern stone statue of Mary.',\n",
       " 'question': 'To whom did the Virgin Mary allegedly appear in 1858 in Lourdes France?',\n",
       " 'answers': {'text': ['Saint Bernadette Soubirous'], 'answer_start': [515]}}"
      ]
     },
     "execution_count": 5,
     "metadata": {},
     "output_type": "execute_result"
    }
   ],
   "source": [
    "dataset['train'][0]"
   ]
  },
  {
   "cell_type": "code",
   "execution_count": 6,
   "id": "f17624d8-2d8c-415a-8f0c-961e3e557a37",
   "metadata": {},
   "outputs": [
    {
     "data": {
      "text/plain": [
       "'Saint Bernadette Soubirous in 1858. At the end of the main drive (and in a direct line that connects through 3 statues and the Gold Dome), is a simple, modern stone statue of Mary.'"
      ]
     },
     "execution_count": 6,
     "metadata": {},
     "output_type": "execute_result"
    }
   ],
   "source": [
    "dataset['train'][0]['context'][515:]"
   ]
  },
  {
   "cell_type": "markdown",
   "id": "9d6f2487-fdfb-4e6d-b98e-f74034d8be1c",
   "metadata": {},
   "source": [
    "## 二、transformers使用"
   ]
  },
  {
   "cell_type": "code",
   "execution_count": 7,
   "id": "1af7ebe8-2c55-4d90-9fe6-d8413beb8ae3",
   "metadata": {},
   "outputs": [],
   "source": [
    "from transformers import BertTokenizerFast, BertForQuestionAnswering, TrainingArguments, Trainer, default_data_collator"
   ]
  },
  {
   "cell_type": "code",
   "execution_count": 15,
   "id": "7049cb49-30dc-4035-8e16-bb9d90e84b25",
   "metadata": {},
   "outputs": [],
   "source": [
    "tokenizer = BertTokenizerFast.from_pretrained('/Users/huxiang/Documents/pretrain_models/bert-tiny/')"
   ]
  },
  {
   "cell_type": "code",
   "execution_count": 17,
   "id": "fa02ec83-a008-41a4-8668-d69666067c93",
   "metadata": {},
   "outputs": [
    {
     "data": {
      "text/plain": [
       "PreTrainedTokenizerFast(name_or_path='/Users/huxiang/Documents/pretrain_models/bert-tiny/', vocab_size=30522, model_max_len=1000000000000000019884624838656, is_fast=True, padding_side='right', truncation_side='right', special_tokens={'unk_token': '[UNK]', 'sep_token': '[SEP]', 'pad_token': '[PAD]', 'cls_token': '[CLS]', 'mask_token': '[MASK]'})"
      ]
     },
     "execution_count": 17,
     "metadata": {},
     "output_type": "execute_result"
    }
   ],
   "source": [
    "tokenizer"
   ]
  },
  {
   "cell_type": "markdown",
   "id": "b0b07ee5-6256-439c-bd3d-406a996cac0d",
   "metadata": {},
   "source": [
    "## 三、实验"
   ]
  },
  {
   "cell_type": "code",
   "execution_count": 55,
   "id": "ea6ae17a-dcf8-4816-8247-dfb45702f135",
   "metadata": {},
   "outputs": [
    {
     "name": "stderr",
     "output_type": "stream",
     "text": [
      "Reusing dataset squad (/Users/huxiang/.cache/huggingface/datasets/squad/plain_text/1.0.0/d6ec3ceb99ca480ce37cdd35555d6cb2511d223b9150cce08a837ef62ffea453)\n"
     ]
    },
    {
     "data": {
      "application/vnd.jupyter.widget-view+json": {
       "model_id": "3714f6c7acf74aa98e7684ff7584354a",
       "version_major": 2,
       "version_minor": 0
      },
      "text/plain": [
       "  0%|          | 0/2 [00:00<?, ?it/s]"
      ]
     },
     "metadata": {},
     "output_type": "display_data"
    }
   ],
   "source": [
    "import json\n",
    "\n",
    "from datasets import load_dataset, load_metric\n",
    "from transformers import BertTokenizerFast, BertForQuestionAnswering, TrainingArguments, Trainer, default_data_collator\n",
    "\n",
    "dataset = load_dataset('squad')\n",
    "\n",
    "tokenizer = BertTokenizerFast.from_pretrained('/Users/huxiang/Documents/pretrain_models/bert-tiny/')\n",
    "\n",
    "\n",
    "\n",
    "def prepare_train_features(examples):\n",
    "    \"\"\"准备训练数据并转换为feature\n",
    "    Args:\n",
    "        examples: batch为n的数据，dict_keys(['id', 'title', 'context', 'question', 'answers']),\n",
    "            example:{id:[id1, id2, ...], title:[title1, title2, ...],\n",
    "                     context:[context1, context2, ...],\n",
    "                     question:[question1, question2, ...],\n",
    "                     answers:[answers1, answers2, ...]}\n",
    "\n",
    "    \"\"\"\n",
    "    tokenized_examples = tokenizer(\n",
    "        examples[\"question\"],           # 问题文本\n",
    "        examples[\"context\"],            # 篇章文本\n",
    "        truncation=\"only_second\",       # 截断只发生在第二部分，即篇章\n",
    "        max_length=50,                 # 设定最大长度为384\n",
    "        stride=30,                     # 设定篇章切片步长为128\n",
    "        return_overflowing_tokens=True, # 返回超出最大长度的标记，将篇章切成多片\n",
    "        return_offsets_mapping=True,    # 返回偏置信息，用于对齐答案位置\n",
    "        padding=\"max_length\",           # 按最大长度进行补齐\n",
    "    )\n",
    "\n",
    "    print(\"examples.keys():\", examples.keys())\n",
    "    \n",
    "    for key in examples.keys():\n",
    "        print('examples, key=', key, 'len(examples[key]):', len(examples[key]))\n",
    "    print(\"tokenized_examples.keys():\", tokenized_examples.keys())\n",
    "    for key in tokenized_examples.keys():\n",
    "        print('tokenized_examples, key=', key, 'len(tokenized_examples[key]):', len(tokenized_examples[key]))\n",
    "        \n",
    "    # 如果篇章很长，则可能会被切成多个小篇章，需要通过以下函数建立feature到example的映射关系\n",
    "    sample_mapping = tokenized_examples.get(\"overflow_to_sample_mapping\")\n",
    "    # 建立token到原文的字符级映射关系，用于确定答案的开始和结束位置\n",
    "    # https://huggingface.co/course/chapter6/3\n",
    "    # 标记每个实体在原文的起始位置\n",
    "    # example: [(0, 0), (0, 2), (3, 7), (8, 11), (12, 15), (16, 22)]\n",
    "    # 第1个token为(0, 2)代表占用的是原始字符串中sentence[0:2]的字\n",
    "    offset_mapping = tokenized_examples.get(\"offset_mapping\") #\n",
    "    \n",
    "    # 获取开始和结束位置\n",
    "    tokenized_examples[\"start_positions\"] = []\n",
    "    tokenized_examples[\"end_positions\"] = []\n",
    "\n",
    "    for i, offsets in enumerate(offset_mapping):\n",
    "        # 获取输入序列的input_ids以及[CLS]标记的位置（在BERT中为第0位）\n",
    "        input_ids = tokenized_examples[\"input_ids\"][i]\n",
    "        cls_index = input_ids.index(tokenizer.cls_token_id)\n",
    "\n",
    "        # 获取哪些部分是问题，哪些部分是篇章\n",
    "        sequence_ids = tokenized_examples.sequence_ids(i)\n",
    "\n",
    "        # 获取答案在文本中的字符级开始和结束位置\n",
    "        sample_index = sample_mapping[i]\n",
    "        answers = examples[\"answers\"][sample_index]\n",
    "        start_char = answers[\"answer_start\"][0]\n",
    "        end_char = start_char + len(answers[\"text\"][0])\n",
    "\n",
    "        # 获取在当前切片中的开始和结束位置\n",
    "        token_start_index = 0\n",
    "        while sequence_ids[token_start_index] != 1:\n",
    "            token_start_index += 1\n",
    "        token_end_index = len(input_ids) - 1\n",
    "        while sequence_ids[token_end_index] != 1:\n",
    "            token_end_index -= 1\n",
    "\n",
    "        # 检测答案是否超出当前切片的范围\n",
    "        if not (offsets[token_start_index][0] <= start_char and offsets[token_end_index][1] >= end_char):\n",
    "            # 超出范围时，答案的开始和结束位置均设置为[CLS]标记的位置\n",
    "            tokenized_examples[\"start_positions\"].append(cls_index)\n",
    "            tokenized_examples[\"end_positions\"].append(cls_index)\n",
    "        else:\n",
    "            # 将token_start_index和token_end_index移至答案的两端\n",
    "            while token_start_index < len(offsets) and offsets[token_start_index][0] <= start_char:\n",
    "                token_start_index += 1\n",
    "            tokenized_examples[\"start_positions\"].append(token_start_index - 1)\n",
    "            while offsets[token_end_index][1] >= end_char:\n",
    "                token_end_index -= 1\n",
    "            tokenized_examples[\"end_positions\"].append(token_end_index + 1)\n",
    "\n",
    "    return tokenized_examples\n",
    "\n",
    "\n"
   ]
  },
  {
   "cell_type": "code",
   "execution_count": 56,
   "id": "43a9490d-e8ec-4ddb-bac4-86132306cc10",
   "metadata": {},
   "outputs": [
    {
     "name": "stdout",
     "output_type": "stream",
     "text": [
      "examples.keys(): dict_keys(['id', 'title', 'context', 'question', 'answers'])\n",
      "examples, key= id len(examples[key]): 2\n",
      "examples, key= title len(examples[key]): 2\n",
      "examples, key= context len(examples[key]): 2\n",
      "examples, key= question len(examples[key]): 2\n",
      "examples, key= answers len(examples[key]): 2\n",
      "tokenized_examples.keys(): dict_keys(['input_ids', 'token_type_ids', 'attention_mask', 'offset_mapping', 'overflow_to_sample_mapping'])\n",
      "tokenized_examples, key= input_ids len(tokenized_examples[key]): 86\n",
      "tokenized_examples, key= token_type_ids len(tokenized_examples[key]): 86\n",
      "tokenized_examples, key= attention_mask len(tokenized_examples[key]): 86\n",
      "tokenized_examples, key= offset_mapping len(tokenized_examples[key]): 86\n",
      "tokenized_examples, key= overflow_to_sample_mapping len(tokenized_examples[key]): 86\n"
     ]
    }
   ],
   "source": [
    "tokenized_examples = prepare_train_features(dataset['train'][0:2])"
   ]
  },
  {
   "cell_type": "code",
   "execution_count": 75,
   "id": "c5cdf06f-4eab-42dc-9fa0-99c3de0a85af",
   "metadata": {},
   "outputs": [
    {
     "name": "stdout",
     "output_type": "stream",
     "text": [
      "into i: 0\n",
      "[None, 0, 0, 0, 0, 0, 0, 0, 0, 0, 0, 0, 0, 0, 0, 0, None, 1, 1, 1, 1, 1, 1, 1, 1, 1, 1, 1, 1, 1, 1, 1, 1, 1, 1, 1, 1, 1, 1, 1, 1, 1, 1, 1, 1, 1, 1, 1, 1, None]\n",
      "into i: 1\n",
      "[None, 0, 0, 0, 0, 0, 0, 0, 0, 0, 0, 0, 0, 0, 0, 0, None, 1, 1, 1, 1, 1, 1, 1, 1, 1, 1, 1, 1, 1, 1, 1, 1, 1, 1, 1, 1, 1, 1, 1, 1, 1, 1, 1, 1, 1, 1, 1, 1, None]\n",
      "into i: 2\n",
      "[None, 0, 0, 0, 0, 0, 0, 0, 0, 0, 0, 0, 0, 0, 0, 0, None, 1, 1, 1, 1, 1, 1, 1, 1, 1, 1, 1, 1, 1, 1, 1, 1, 1, 1, 1, 1, 1, 1, 1, 1, 1, 1, 1, 1, 1, 1, 1, 1, None]\n",
      "into i: 3\n",
      "[None, 0, 0, 0, 0, 0, 0, 0, 0, 0, 0, 0, 0, 0, 0, 0, None, 1, 1, 1, 1, 1, 1, 1, 1, 1, 1, 1, 1, 1, 1, 1, 1, 1, 1, 1, 1, 1, 1, 1, 1, 1, 1, 1, 1, 1, 1, 1, 1, None]\n",
      "into i: 4\n",
      "[None, 0, 0, 0, 0, 0, 0, 0, 0, 0, 0, 0, 0, 0, 0, 0, None, 1, 1, 1, 1, 1, 1, 1, 1, 1, 1, 1, 1, 1, 1, 1, 1, 1, 1, 1, 1, 1, 1, 1, 1, 1, 1, 1, 1, 1, 1, 1, 1, None]\n",
      "into i: 5\n",
      "[None, 0, 0, 0, 0, 0, 0, 0, 0, 0, 0, 0, 0, 0, 0, 0, None, 1, 1, 1, 1, 1, 1, 1, 1, 1, 1, 1, 1, 1, 1, 1, 1, 1, 1, 1, 1, 1, 1, 1, 1, 1, 1, 1, 1, 1, 1, 1, 1, None]\n",
      "into i: 6\n",
      "[None, 0, 0, 0, 0, 0, 0, 0, 0, 0, 0, 0, 0, 0, 0, 0, None, 1, 1, 1, 1, 1, 1, 1, 1, 1, 1, 1, 1, 1, 1, 1, 1, 1, 1, 1, 1, 1, 1, 1, 1, 1, 1, 1, 1, 1, 1, 1, 1, None]\n"
     ]
    }
   ],
   "source": [
    "for i in range(86):\n",
    "    seq_id = tokenized_examples.sequence_ids(i)\n",
    "    print('into i:', i)\n",
    "    print(seq_id)\n",
    "    if i > 5:\n",
    "        break"
   ]
  },
  {
   "cell_type": "code",
   "execution_count": 38,
   "id": "7beb8a90-fbae-40c5-ba9c-19ae3908dd43",
   "metadata": {},
   "outputs": [],
   "source": [
    "examples = dataset['train'][0:2]"
   ]
  },
  {
   "cell_type": "code",
   "execution_count": 40,
   "id": "4a26123d-ba87-4926-a16e-926d608e902b",
   "metadata": {},
   "outputs": [
    {
     "data": {
      "text/plain": [
       "{'id': ['5733be284776f41900661182', '5733be284776f4190066117f'],\n",
       " 'title': ['University_of_Notre_Dame', 'University_of_Notre_Dame'],\n",
       " 'context': ['Architecturally, the school has a Catholic character. Atop the Main Building\\'s gold dome is a golden statue of the Virgin Mary. Immediately in front of the Main Building and facing it, is a copper statue of Christ with arms upraised with the legend \"Venite Ad Me Omnes\". Next to the Main Building is the Basilica of the Sacred Heart. Immediately behind the basilica is the Grotto, a Marian place of prayer and reflection. It is a replica of the grotto at Lourdes, France where the Virgin Mary reputedly appeared to Saint Bernadette Soubirous in 1858. At the end of the main drive (and in a direct line that connects through 3 statues and the Gold Dome), is a simple, modern stone statue of Mary.',\n",
       "  'Architecturally, the school has a Catholic character. Atop the Main Building\\'s gold dome is a golden statue of the Virgin Mary. Immediately in front of the Main Building and facing it, is a copper statue of Christ with arms upraised with the legend \"Venite Ad Me Omnes\". Next to the Main Building is the Basilica of the Sacred Heart. Immediately behind the basilica is the Grotto, a Marian place of prayer and reflection. It is a replica of the grotto at Lourdes, France where the Virgin Mary reputedly appeared to Saint Bernadette Soubirous in 1858. At the end of the main drive (and in a direct line that connects through 3 statues and the Gold Dome), is a simple, modern stone statue of Mary.'],\n",
       " 'question': ['To whom did the Virgin Mary allegedly appear in 1858 in Lourdes France?',\n",
       "  'What is in front of the Notre Dame Main Building?'],\n",
       " 'answers': [{'text': ['Saint Bernadette Soubirous'], 'answer_start': [515]},\n",
       "  {'text': ['a copper statue of Christ'], 'answer_start': [188]}]}"
      ]
     },
     "execution_count": 40,
     "metadata": {},
     "output_type": "execute_result"
    }
   ],
   "source": [
    "examples"
   ]
  },
  {
   "cell_type": "code",
   "execution_count": 42,
   "id": "9e87fc75-01b0-45bc-afef-5f6e9449a552",
   "metadata": {},
   "outputs": [
    {
     "data": {
      "text/plain": [
       "dict_keys(['id', 'title', 'context', 'question', 'answers'])"
      ]
     },
     "execution_count": 42,
     "metadata": {},
     "output_type": "execute_result"
    }
   ],
   "source": [
    "examples.keys()"
   ]
  },
  {
   "cell_type": "code",
   "execution_count": 41,
   "id": "5a95850c-0d2e-4014-a466-918674385532",
   "metadata": {},
   "outputs": [
    {
     "data": {
      "text/plain": [
       "dict_keys(['input_ids', 'token_type_ids', 'attention_mask', 'start_positions', 'end_positions'])"
      ]
     },
     "execution_count": 41,
     "metadata": {},
     "output_type": "execute_result"
    }
   ],
   "source": [
    "tokenized_examples.keys()"
   ]
  },
  {
   "cell_type": "code",
   "execution_count": 78,
   "id": "27af89ca-de96-4ca2-b35c-70c5d8337a7a",
   "metadata": {},
   "outputs": [
    {
     "name": "stdout",
     "output_type": "stream",
     "text": [
      "tokenized_examples, key= input_ids len(tokenized_examples[key]): 86\n",
      "tokenized_examples, key= token_type_ids len(tokenized_examples[key]): 86\n",
      "tokenized_examples, key= attention_mask len(tokenized_examples[key]): 86\n",
      "tokenized_examples, key= offset_mapping len(tokenized_examples[key]): 86\n",
      "tokenized_examples, key= overflow_to_sample_mapping len(tokenized_examples[key]): 86\n",
      "tokenized_examples, key= start_positions len(tokenized_examples[key]): 86\n",
      "tokenized_examples, key= end_positions len(tokenized_examples[key]): 86\n"
     ]
    }
   ],
   "source": [
    "for key in tokenized_examples.keys():\n",
    "    print('tokenized_examples, key=', key, 'len(tokenized_examples[key]):', len(tokenized_examples[key]))"
   ]
  },
  {
   "cell_type": "code",
   "execution_count": 88,
   "id": "4c746c56-61be-4a90-bc02-6ea82ca3efc9",
   "metadata": {},
   "outputs": [
    {
     "data": {
      "text/plain": [
       "{'text': ['Saint Bernadette Soubirous'], 'answer_start': [515]}"
      ]
     },
     "execution_count": 88,
     "metadata": {},
     "output_type": "execute_result"
    }
   ],
   "source": [
    "examples['answers'][0]"
   ]
  },
  {
   "cell_type": "code",
   "execution_count": 87,
   "id": "3c2e4da2-5eb0-4136-a322-0ccee1033ff0",
   "metadata": {},
   "outputs": [
    {
     "name": "stdout",
     "output_type": "stream",
     "text": [
      "into: 45\n",
      "40\n",
      "47\n",
      "[CLS] to whom did the virgin mary allegedly appear in 1858 in lourdes france? [SEP] reflection. it is a replica of the grotto at lourdes, france where the virgin mary reputedly appeared to saint bernadette soubirous in [SEP]\n",
      "saint bernadette soubiro\n",
      "into: 46\n",
      "38\n",
      "45\n",
      "[CLS] to whom did the virgin mary allegedly appear in 1858 in lourdes france? [SEP] it is a replica of the grotto at lourdes, france where the virgin mary reputedly appeared to saint bernadette soubirous in 1858. [SEP]\n",
      "saint bernadette soubiro\n",
      "into: 47\n",
      "36\n",
      "43\n",
      "[CLS] to whom did the virgin mary allegedly appear in 1858 in lourdes france? [SEP] a replica of the grotto at lourdes, france where the virgin mary reputedly appeared to saint bernadette soubirous in 1858. at the [SEP]\n",
      "saint bernadette soubiro\n",
      "into: 48\n",
      "34\n",
      "41\n",
      "[CLS] to whom did the virgin mary allegedly appear in 1858 in lourdes france? [SEP] of the grotto at lourdes, france where the virgin mary reputedly appeared to saint bernadette soubirous in 1858. at the end of [SEP]\n",
      "saint bernadette soubiro\n",
      "into: 49\n",
      "32\n",
      "39\n",
      "[CLS] to whom did the virgin mary allegedly appear in 1858 in lourdes france? [SEP] grotto at lourdes, france where the virgin mary reputedly appeared to saint bernadette soubirous in 1858. at the end of the main [SEP]\n",
      "saint bernadette soubiro\n",
      "into: 50\n",
      "30\n",
      "37\n",
      "[CLS] to whom did the virgin mary allegedly appear in 1858 in lourdes france? [SEP] at lourdes, france where the virgin mary reputedly appeared to saint bernadette soubirous in 1858. at the end of the main drive ( [SEP]\n",
      "saint bernadette soubiro\n",
      "into: 51\n",
      "28\n",
      "35\n",
      "[CLS] to whom did the virgin mary allegedly appear in 1858 in lourdes france? [SEP]rdes, france where the virgin mary reputedly appeared to saint bernadette soubirous in 1858. at the end of the main drive ( and in [SEP]\n",
      "saint bernadette soubiro\n",
      "into: 52\n",
      "26\n",
      "33\n",
      "[CLS] to whom did the virgin mary allegedly appear in 1858 in lourdes france? [SEP] france where the virgin mary reputedly appeared to saint bernadette soubirous in 1858. at the end of the main drive ( and in a direct [SEP]\n",
      "saint bernadette soubiro\n",
      "into: 53\n",
      "24\n",
      "31\n",
      "[CLS] to whom did the virgin mary allegedly appear in 1858 in lourdes france? [SEP] the virgin mary reputedly appeared to saint bernadette soubirous in 1858. at the end of the main drive ( and in a direct line that [SEP]\n",
      "saint bernadette soubiro\n",
      "into: 54\n",
      "22\n",
      "29\n",
      "[CLS] to whom did the virgin mary allegedly appear in 1858 in lourdes france? [SEP] mary reputedly appeared to saint bernadette soubirous in 1858. at the end of the main drive ( and in a direct line that connects through [SEP]\n",
      "saint bernadette soubiro\n",
      "into: 55\n",
      "20\n",
      "27\n",
      "[CLS] to whom did the virgin mary allegedly appear in 1858 in lourdes france? [SEP]ly appeared to saint bernadette soubirous in 1858. at the end of the main drive ( and in a direct line that connects through 3 statues [SEP]\n",
      "saint bernadette soubiro\n",
      "into: 56\n",
      "18\n",
      "25\n",
      "[CLS] to whom did the virgin mary allegedly appear in 1858 in lourdes france? [SEP] to saint bernadette soubirous in 1858. at the end of the main drive ( and in a direct line that connects through 3 statues and the [SEP]\n",
      "saint bernadette soubiro\n",
      "into: 66\n",
      "40\n",
      "44\n",
      "[CLS] what is in front of the notre dame main building? [SEP] main building's gold dome is a golden statue of the virgin mary. immediately in front of the main building and facing it, is a copper statue of christ with arms uprai [SEP]\n",
      "a copper statue of\n",
      "into: 67\n",
      "34\n",
      "38\n",
      "[CLS] what is in front of the notre dame main building? [SEP] is a golden statue of the virgin mary. immediately in front of the main building and facing it, is a copper statue of christ with arms upraised with the legend \" ve [SEP]\n",
      "a copper statue of\n",
      "into: 68\n",
      "28\n",
      "32\n",
      "[CLS] what is in front of the notre dame main building? [SEP] virgin mary. immediately in front of the main building and facing it, is a copper statue of christ with arms upraised with the legend \" venite ad me omnes [SEP]\n",
      "a copper statue of\n",
      "into: 69\n",
      "22\n",
      "26\n",
      "[CLS] what is in front of the notre dame main building? [SEP] of the main building and facing it, is a copper statue of christ with arms upraised with the legend \" venite ad me omnes \". next to the main [SEP]\n",
      "a copper statue of\n",
      "into: 70\n",
      "16\n",
      "20\n",
      "[CLS] what is in front of the notre dame main building? [SEP] it, is a copper statue of christ with arms upraised with the legend \" venite ad me omnes \". next to the main building is the basilica of the [SEP]\n",
      "a copper statue of\n"
     ]
    }
   ],
   "source": [
    "key = 'start_positions'\n",
    "for i in range(len(tokenized_examples[key])):\n",
    "    if tokenized_examples['start_positions'][i] or tokenized_examples['end_positions'][i]:\n",
    "        print('into:', i)\n",
    "        print(tokenized_examples['start_positions'][i])\n",
    "        print(tokenized_examples['end_positions'][i])\n",
    "        print(tokenizer.decode(tokenized_examples['input_ids'][i]))\n",
    "        print(tokenizer.decode(tokenized_examples['input_ids'][i][tokenized_examples['start_positions'][i]:tokenized_examples['end_positions'][i]]))\n",
    "    "
   ]
  },
  {
   "cell_type": "code",
   "execution_count": null,
   "id": "4ae13145-f3be-4674-96b5-abae4dcc4af7",
   "metadata": {},
   "outputs": [],
   "source": []
  },
  {
   "cell_type": "code",
   "execution_count": null,
   "id": "5254d025-9fc1-415f-b678-e07224a61a8a",
   "metadata": {},
   "outputs": [],
   "source": []
  },
  {
   "cell_type": "code",
   "execution_count": 43,
   "id": "a1ce3054-0605-405b-895b-739b37611626",
   "metadata": {},
   "outputs": [
    {
     "data": {
      "text/plain": [
       "2"
      ]
     },
     "execution_count": 43,
     "metadata": {},
     "output_type": "execute_result"
    }
   ],
   "source": [
    "len(examples['id'])"
   ]
  },
  {
   "cell_type": "code",
   "execution_count": 44,
   "id": "6d5cbeef-983c-46bd-9908-e2ad3386d892",
   "metadata": {},
   "outputs": [
    {
     "data": {
      "text/plain": [
       "5"
      ]
     },
     "execution_count": 44,
     "metadata": {},
     "output_type": "execute_result"
    }
   ],
   "source": [
    "len(examples)"
   ]
  },
  {
   "cell_type": "code",
   "execution_count": 47,
   "id": "5e765489-8c6f-49c4-91cc-9fef1897a2e4",
   "metadata": {},
   "outputs": [
    {
     "data": {
      "text/plain": [
       "\"[CLS] to whom did the virgin mary allegedly appear in 1858 in lourdes france? [SEP] architecturally, the school has a catholic character. atop the main building's gold dome is a golden statue of the virgin mary. immediately in front of the [SEP]\""
      ]
     },
     "execution_count": 47,
     "metadata": {},
     "output_type": "execute_result"
    }
   ],
   "source": [
    "tokenizer.decode(tokenized_examples['input_ids'][0])"
   ]
  },
  {
   "cell_type": "code",
   "execution_count": null,
   "id": "e630830a-4507-4951-8e09-88c49426df69",
   "metadata": {},
   "outputs": [],
   "source": []
  },
  {
   "cell_type": "code",
   "execution_count": 57,
   "id": "963413be-6616-431f-b7fb-120dde529e36",
   "metadata": {},
   "outputs": [
    {
     "data": {
      "text/plain": [
       "dict_keys(['input_ids', 'token_type_ids', 'attention_mask', 'offset_mapping', 'overflow_to_sample_mapping', 'start_positions', 'end_positions'])"
      ]
     },
     "execution_count": 57,
     "metadata": {},
     "output_type": "execute_result"
    }
   ],
   "source": [
    "tokenized_examples.keys()"
   ]
  },
  {
   "cell_type": "code",
   "execution_count": 89,
   "id": "cb399c5b-9d9e-4cb2-8ce1-5a7ba05119fb",
   "metadata": {},
   "outputs": [
    {
     "data": {
      "text/plain": [
       "{'id': ['5733be284776f41900661182', '5733be284776f4190066117f'],\n",
       " 'title': ['University_of_Notre_Dame', 'University_of_Notre_Dame'],\n",
       " 'context': ['Architecturally, the school has a Catholic character. Atop the Main Building\\'s gold dome is a golden statue of the Virgin Mary. Immediately in front of the Main Building and facing it, is a copper statue of Christ with arms upraised with the legend \"Venite Ad Me Omnes\". Next to the Main Building is the Basilica of the Sacred Heart. Immediately behind the basilica is the Grotto, a Marian place of prayer and reflection. It is a replica of the grotto at Lourdes, France where the Virgin Mary reputedly appeared to Saint Bernadette Soubirous in 1858. At the end of the main drive (and in a direct line that connects through 3 statues and the Gold Dome), is a simple, modern stone statue of Mary.',\n",
       "  'Architecturally, the school has a Catholic character. Atop the Main Building\\'s gold dome is a golden statue of the Virgin Mary. Immediately in front of the Main Building and facing it, is a copper statue of Christ with arms upraised with the legend \"Venite Ad Me Omnes\". Next to the Main Building is the Basilica of the Sacred Heart. Immediately behind the basilica is the Grotto, a Marian place of prayer and reflection. It is a replica of the grotto at Lourdes, France where the Virgin Mary reputedly appeared to Saint Bernadette Soubirous in 1858. At the end of the main drive (and in a direct line that connects through 3 statues and the Gold Dome), is a simple, modern stone statue of Mary.'],\n",
       " 'question': ['To whom did the Virgin Mary allegedly appear in 1858 in Lourdes France?',\n",
       "  'What is in front of the Notre Dame Main Building?'],\n",
       " 'answers': [{'text': ['Saint Bernadette Soubirous'], 'answer_start': [515]},\n",
       "  {'text': ['a copper statue of Christ'], 'answer_start': [188]}]}"
      ]
     },
     "execution_count": 89,
     "metadata": {},
     "output_type": "execute_result"
    }
   ],
   "source": [
    "examples"
   ]
  },
  {
   "cell_type": "code",
   "execution_count": 67,
   "id": "ee75483e-e14c-45db-ad1f-4f9991119abb",
   "metadata": {},
   "outputs": [
    {
     "name": "stdout",
     "output_type": "stream",
     "text": [
      "i: 0\n",
      "offset: [(0, 0), (0, 2), (3, 7), (8, 11), (12, 15), (16, 22), (23, 27), (28, 37), (38, 44), (45, 47), (48, 52), (53, 55), (56, 59), (59, 63), (64, 70), (70, 71), (0, 0), (0, 13), (13, 15), (15, 16), (17, 20), (21, 27), (28, 31), (32, 33), (34, 42), (43, 52), (52, 53), (54, 58), (59, 62), (63, 67), (68, 76), (76, 77), (77, 78), (79, 83), (84, 88), (89, 91), (92, 93), (94, 100), (101, 107), (108, 110), (111, 114), (115, 121), (122, 126), (126, 127), (128, 139), (140, 142), (143, 148), (149, 151), (152, 155), (0, 0)]\n",
      "i: 1\n",
      "offset: [(0, 0), (0, 2), (3, 7), (8, 11), (12, 15), (16, 22), (23, 27), (28, 37), (38, 44), (45, 47), (48, 52), (53, 55), (56, 59), (59, 63), (64, 70), (70, 71), (0, 0), (15, 16), (17, 20), (21, 27), (28, 31), (32, 33), (34, 42), (43, 52), (52, 53), (54, 58), (59, 62), (63, 67), (68, 76), (76, 77), (77, 78), (79, 83), (84, 88), (89, 91), (92, 93), (94, 100), (101, 107), (108, 110), (111, 114), (115, 121), (122, 126), (126, 127), (128, 139), (140, 142), (143, 148), (149, 151), (152, 155), (156, 160), (161, 169), (0, 0)]\n",
      "i: 2\n",
      "offset: [(0, 0), (0, 2), (3, 7), (8, 11), (12, 15), (16, 22), (23, 27), (28, 37), (38, 44), (45, 47), (48, 52), (53, 55), (56, 59), (59, 63), (64, 70), (70, 71), (0, 0), (21, 27), (28, 31), (32, 33), (34, 42), (43, 52), (52, 53), (54, 58), (59, 62), (63, 67), (68, 76), (76, 77), (77, 78), (79, 83), (84, 88), (89, 91), (92, 93), (94, 100), (101, 107), (108, 110), (111, 114), (115, 121), (122, 126), (126, 127), (128, 139), (140, 142), (143, 148), (149, 151), (152, 155), (156, 160), (161, 169), (170, 173), (174, 180), (0, 0)]\n",
      "i: 3\n",
      "offset: [(0, 0), (0, 2), (3, 7), (8, 11), (12, 15), (16, 22), (23, 27), (28, 37), (38, 44), (45, 47), (48, 52), (53, 55), (56, 59), (59, 63), (64, 70), (70, 71), (0, 0), (32, 33), (34, 42), (43, 52), (52, 53), (54, 58), (59, 62), (63, 67), (68, 76), (76, 77), (77, 78), (79, 83), (84, 88), (89, 91), (92, 93), (94, 100), (101, 107), (108, 110), (111, 114), (115, 121), (122, 126), (126, 127), (128, 139), (140, 142), (143, 148), (149, 151), (152, 155), (156, 160), (161, 169), (170, 173), (174, 180), (181, 183), (183, 184), (0, 0)]\n"
     ]
    }
   ],
   "source": [
    "for i, offset in enumerate(tokenized_examples['offset_mapping']):\n",
    "    print('i:', i)\n",
    "    print('offset:', offset)\n",
    "    if i > 2:\n",
    "        break"
   ]
  },
  {
   "cell_type": "code",
   "execution_count": 64,
   "id": "fc91ce03-c194-4e5b-b832-df36991dca2f",
   "metadata": {},
   "outputs": [
    {
     "name": "stdout",
     "output_type": "stream",
     "text": [
      "i: 0\n",
      "overflow_to_sample_mapping: 0\n",
      "i: 1\n",
      "overflow_to_sample_mapping: 0\n",
      "i: 2\n",
      "overflow_to_sample_mapping: 0\n",
      "i: 3\n",
      "overflow_to_sample_mapping: 0\n",
      "i: 4\n",
      "overflow_to_sample_mapping: 0\n",
      "i: 5\n",
      "overflow_to_sample_mapping: 0\n",
      "i: 6\n",
      "overflow_to_sample_mapping: 0\n"
     ]
    }
   ],
   "source": [
    "for i, overflow_to_sample_mapping in enumerate(tokenized_examples['overflow_to_sample_mapping']):\n",
    "    print('i:', i)\n",
    "    print('overflow_to_sample_mapping:', overflow_to_sample_mapping)\n",
    "    if i > 5:\n",
    "        break"
   ]
  },
  {
   "cell_type": "code",
   "execution_count": null,
   "id": "c59344be-f86d-430f-8dc6-624ffeee89b4",
   "metadata": {},
   "outputs": [],
   "source": []
  },
  {
   "cell_type": "code",
   "execution_count": null,
   "id": "8f222831-7bb6-4d69-9027-ccf10997fa49",
   "metadata": {},
   "outputs": [],
   "source": []
  }
 ],
 "metadata": {
  "kernelspec": {
   "display_name": "Python 3 (ipykernel)",
   "language": "python",
   "name": "python3"
  },
  "language_info": {
   "codemirror_mode": {
    "name": "ipython",
    "version": 3
   },
   "file_extension": ".py",
   "mimetype": "text/x-python",
   "name": "python",
   "nbconvert_exporter": "python",
   "pygments_lexer": "ipython3",
   "version": "3.9.12"
  }
 },
 "nbformat": 4,
 "nbformat_minor": 5
}
